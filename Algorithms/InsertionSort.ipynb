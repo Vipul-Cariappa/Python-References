{
 "cells": [
  {
   "cell_type": "markdown",
   "metadata": {},
   "source": [
    "# Insertion Sort\n",
    "Algorithm Speed : O(n<sup>2</sup>)<br>\n",
    "Memory Usage: n elements in memory in 1 list.<br>\n",
    "Inplace Sort<br>"
   ]
  },
  {
   "cell_type": "code",
   "execution_count": null,
   "metadata": {
    "tags": []
   },
   "outputs": [],
   "source": [
    "from random import random as rand\n",
    "\n",
    "li = [int(rand()*1000) for _ in range(1000)]\n",
    "\n",
    "def insertion_sort(li):\n",
    "    length = len(li)\n",
    "    \n",
    "    for i in range(1, length):\n",
    "        key = li[i]\n",
    "        j = i - 1\n",
    "\n",
    "        while j >= 0 and key < li[j]:\n",
    "            li[j+1] = li[j]\n",
    "            j -= 1\n",
    "\n",
    "        li[j+1] = key\n",
    "\n",
    "    return li\n",
    "\n",
    "insertion_sort(li)"
   ]
  }
 ],
 "metadata": {
  "language_info": {
   "codemirror_mode": {
    "name": "ipython",
    "version": 3
   },
   "file_extension": ".py",
   "mimetype": "text/x-python",
   "name": "python",
   "nbconvert_exporter": "python",
   "pygments_lexer": "ipython3",
   "version": "3.8.3-final"
  },
  "orig_nbformat": 2,
  "kernelspec": {
   "name": "python38364bitvenvvenv737c61d694084a9e8843e0b79fe60360",
   "display_name": "Python 3.8.3 64-bit ('venv': venv)"
  }
 },
 "nbformat": 4,
 "nbformat_minor": 2
}