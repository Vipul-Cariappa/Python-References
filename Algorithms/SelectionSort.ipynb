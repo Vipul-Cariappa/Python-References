{
 "cells": [
  {
   "cell_type": "markdown",
   "metadata": {},
   "source": [
    "# Selection Sort\n",
    "Algorithm Speed : O(n<sup>2</sup>)<br>\n",
    "Memory Usage : n elements in memory, but in two lists at a given time<br>\n",
    "Does not sort Inplace<br>"
   ]
  },
  {
   "cell_type": "code",
   "execution_count": null,
   "metadata": {
    "tags": []
   },
   "outputs": [],
   "source": [
    "from random import random as rand\n",
    "\n",
    "li = [int(rand()*1000) for _ in range(1000)]\n",
    "\n",
    "def smallest_element(li):\n",
    "    smallest = li[0]\n",
    "    smallest_index = 0\n",
    "\n",
    "    for i in range(len(li)):\n",
    "        if li[i] < smallest:\n",
    "            smallest = li[i]\n",
    "            smallest_index = i\n",
    "\n",
    "    return smallest_index\n",
    "\n",
    "def selection_sort(li):\n",
    "    sorted_list = []\n",
    "\n",
    "    for i in range(len(li)):\n",
    "        smallest_index = smallest_element(li)\n",
    "        sorted_list.append(li.pop(smallest_index))\n",
    "\n",
    "    return sorted_list\n",
    "\n",
    "selection_sort(li)"
   ]
  }
 ],
 "metadata": {
  "language_info": {
   "codemirror_mode": {
    "name": "ipython",
    "version": 3
   },
   "file_extension": ".py",
   "mimetype": "text/x-python",
   "name": "python",
   "nbconvert_exporter": "python",
   "pygments_lexer": "ipython3",
   "version": "3.8.3-final"
  },
  "orig_nbformat": 2,
  "kernelspec": {
   "name": "python38364bitvenvvenv737c61d694084a9e8843e0b79fe60360",
   "display_name": "Python 3.8.3 64-bit ('venv': venv)"
  }
 },
 "nbformat": 4,
 "nbformat_minor": 2
}