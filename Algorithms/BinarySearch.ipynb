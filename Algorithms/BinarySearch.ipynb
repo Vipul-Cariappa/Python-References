{
 "cells": [
  {
   "cell_type": "markdown",
   "metadata": {},
   "source": [
    "# Binary Search\n",
    "Algorithm Speed : O(log<sub>2</sub> n)<br>"
   ]
  },
  {
   "cell_type": "code",
   "execution_count": null,
   "metadata": {},
   "outputs": [],
   "source": [
    "def binary_search(array, element):\n",
    "    high = len(array)-1\n",
    "    low = 0\n",
    "    \n",
    "\n",
    "    while low <= high:\n",
    "        mid = (high + low) // 2\n",
    "        guess = array[mid]\n",
    "        \n",
    "        if element == guess:\n",
    "            return mid\n",
    "        if guess > element:\n",
    "            high = mid - 1\n",
    "        else:\n",
    "            low = mid + 1\n",
    "\n",
    "    return None\n",
    "\n",
    "binary_search([1,2,3,4,5,6,7,6,5,4,3,2,1], 7)"
   ]
  }
 ],
 "metadata": {
  "language_info": {
   "codemirror_mode": {
    "name": "ipython",
    "version": 3
   },
   "file_extension": ".py",
   "mimetype": "text/x-python",
   "name": "python",
   "nbconvert_exporter": "python",
   "pygments_lexer": "ipython3",
   "version": "3.8.3-final"
  },
  "orig_nbformat": 2,
  "kernelspec": {
   "name": "python38364bitvenvvenv737c61d694084a9e8843e0b79fe60360",
   "display_name": "Python 3.8.3 64-bit ('venv': venv)"
  }
 },
 "nbformat": 4,
 "nbformat_minor": 2
}