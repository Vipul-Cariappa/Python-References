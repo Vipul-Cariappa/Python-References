{
 "cells": [
  {
   "cell_type": "code",
   "execution_count": null,
   "metadata": {
    "tags": []
   },
   "outputs": [],
   "source": [
    "from random import random as rand\n",
    "\n",
    "li = [int(rand()*1000) for _ in range(1000)]\n",
    "\n",
    "def quicksort(li):\n",
    "    if len(li) < 2:\n",
    "        return li\n",
    "    \n",
    "    pivot = li.pop(len(li)//2)\n",
    "\n",
    "    low = []\n",
    "    high = []\n",
    "\n",
    "    for i in li:\n",
    "        if i <= pivot:\n",
    "            low.append(i)\n",
    "        else:\n",
    "            high.append(i)\n",
    "\n",
    "    return quicksort(low) + [pivot] + quicksort(high)\n",
    "\n",
    "quicksort(li)"
   ]
  }
 ],
 "metadata": {
  "language_info": {
   "codemirror_mode": {
    "name": "ipython",
    "version": 3
   },
   "file_extension": ".py",
   "mimetype": "text/x-python",
   "name": "python",
   "nbconvert_exporter": "python",
   "pygments_lexer": "ipython3",
   "version": 3
  },
  "orig_nbformat": 2,
  "kernelspec": {
   "name": "python_defaultSpec_1594786634018",
   "display_name": "Python 3.8.3 64-bit ('venv': venv)"
  }
 },
 "nbformat": 4,
 "nbformat_minor": 2
}