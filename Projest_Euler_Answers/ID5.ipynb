{
 "cells": [
  {
   "cell_type": "markdown",
   "metadata": {},
   "source": [
    "# ID 5"
   ]
  },
  {
   "cell_type": "markdown",
   "metadata": {},
   "source": [
    "2520 is the smallest number that can be divided by each of the numbers from 1 to 10 without any remainder.\n",
    "\n",
    "What is the smallest positive number that is evenly divisible by all of the numbers from 1 to 20?"
   ]
  },
  {
   "cell_type": "code",
   "execution_count": 2,
   "metadata": {},
   "outputs": [
    {
     "name": "stdout",
     "output_type": "stream",
     "text": [
      "The number:  232792560\n"
     ]
    }
   ],
   "source": [
    "check = 3*5*7*11*13*17*19*2\n",
    "li = [20, 18, 16, 15, 14, 12, 10, 9, 8, 7, 6, 5, 4, 3, 2]\n",
    "a = 1\n",
    "\n",
    "while True:\n",
    "   for i in li:\n",
    "      if check % i != 0:\n",
    "         break\n",
    "   else:\n",
    "      print(\"The number: \", check)\n",
    "      break\n",
    "   \n",
    "   a += 1\n",
    "   check = check * a"
   ]
  }
 ],
 "metadata": {
  "kernelspec": {
   "display_name": "Python 3",
   "language": "python",
   "name": "python3"
  },
  "language_info": {
   "codemirror_mode": {
    "name": "ipython",
    "version": 3
   },
   "file_extension": ".py",
   "mimetype": "text/x-python",
   "name": "python",
   "nbconvert_exporter": "python",
   "pygments_lexer": "ipython3",
   "version": "3.8.2"
  }
 },
 "nbformat": 4,
 "nbformat_minor": 4
}
