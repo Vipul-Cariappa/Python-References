{
 "cells": [
  {
   "cell_type": "markdown",
   "metadata": {},
   "source": [
    "# ID 3"
   ]
  },
  {
   "cell_type": "markdown",
   "metadata": {},
   "source": [
    "The prime factors of 13195 are 5, 7, 13 and 29.\n",
    "What is the largest prime factor of the number 600851475143 ?"
   ]
  },
  {
   "cell_type": "code",
   "execution_count": 1,
   "metadata": {},
   "outputs": [
    {
     "name": "stdout",
     "output_type": "stream",
     "text": [
      "[71, 839, 1471, 6857] \n",
      " 6857\n"
     ]
    }
   ],
   "source": [
    "num = 600_851_475_143\n",
    "li = []\n",
    "prime_multi = 1\n",
    "x  = 3\n",
    "numx = num\n",
    "\n",
    "while prime_multi != num:\n",
    "   if numx % x == 0:\n",
    "      li.append(x)\n",
    "      prime_multi *= x\n",
    "      numx /= x\n",
    "      continue\n",
    "   else:\n",
    "      x += 1\n",
    "\n",
    "print(max(li))"
   ]
  }
 ],
 "metadata": {
  "kernelspec": {
   "display_name": "Python 3",
   "language": "python",
   "name": "python3"
  },
  "language_info": {
   "codemirror_mode": {
    "name": "ipython",
    "version": 3
   },
   "file_extension": ".py",
   "mimetype": "text/x-python",
   "name": "python",
   "nbconvert_exporter": "python",
   "pygments_lexer": "ipython3",
   "version": "3.8.2"
  }
 },
 "nbformat": 4,
 "nbformat_minor": 4
}
