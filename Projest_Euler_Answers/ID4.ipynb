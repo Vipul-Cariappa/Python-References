{
 "cells": [
  {
   "cell_type": "markdown",
   "metadata": {},
   "source": [
    "# ID 4"
   ]
  },
  {
   "cell_type": "markdown",
   "metadata": {},
   "source": [
    "A palindromic number reads the same both ways. The largest palindrome made from the product of two 2-digit numbers is 9009 = 91 × 99.\n",
    "Find the largest palindrome made from the product of two 3-digit numbers."
   ]
  },
  {
   "cell_type": "code",
   "execution_count": 2,
   "metadata": {},
   "outputs": [
    {
     "name": "stdout",
     "output_type": "stream",
     "text": [
      "906609\n"
     ]
    }
   ],
   "source": [
    "'''\n",
    "\n",
    "multiply two numbers and check if its sequence is same backways\n",
    "keep decrementing one number\n",
    "if first number is 0 then decrement second number\n",
    "\n",
    "'''\n",
    "\n",
    "from threading import Thread as th\n",
    "from time import sleep\n",
    "\n",
    "a = 999\n",
    "b = 999\n",
    "li = []\n",
    "\n",
    "def check(num):\n",
    "   x = num\n",
    "   y = 0\n",
    "   while x > 0:\n",
    "      rim = x % 10\n",
    "      y = y * 10 + rim\n",
    "      x //= 10\n",
    "\n",
    "\n",
    "   if num == y:\n",
    "      li.append(num)\n",
    "\n",
    "\n",
    "while a != 0 or b != 0:\n",
    "   num = a * b\n",
    "   action = th(target=check, args=[num])\n",
    "   action.run()\n",
    "\n",
    "   if b != 0:\n",
    "      b -= 1\n",
    "   else:\n",
    "      a -= 1\n",
    "      b = 999\n",
    "\n",
    "print(max(li))"
   ]
  }
 ],
 "metadata": {
  "kernelspec": {
   "display_name": "Python 3",
   "language": "python",
   "name": "python3"
  },
  "language_info": {
   "codemirror_mode": {
    "name": "ipython",
    "version": 3
   },
   "file_extension": ".py",
   "mimetype": "text/x-python",
   "name": "python",
   "nbconvert_exporter": "python",
   "pygments_lexer": "ipython3",
   "version": "3.8.2"
  }
 },
 "nbformat": 4,
 "nbformat_minor": 4
}
